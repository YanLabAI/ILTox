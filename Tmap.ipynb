{
 "cells": [
  {
   "cell_type": "code",
   "execution_count": null,
   "id": "95fa9f50",
   "metadata": {
    "ExecuteTime": {
     "end_time": "2022-10-10T06:09:45.283556Z",
     "start_time": "2022-10-10T06:09:43.809126Z"
    }
   },
   "outputs": [],
   "source": [
    "'''\n",
    "Created on October 282022\n",
    "\n",
    "@auther: Yan\n",
    "\n",
    "'''\n",
    "\n",
    "\n",
    "import pandas as pd\n",
    "import tmap\n",
    "from faerun import Faerun\n",
    "from mhfp.encoder import MHFPEncoder\n",
    "from rdkit.Chem import AllChem"
   ]
  },
  {
   "cell_type": "code",
   "execution_count": null,
   "id": "3687ee5f",
   "metadata": {
    "ExecuteTime": {
     "end_time": "2022-10-10T06:10:01.828521Z",
     "start_time": "2022-10-10T06:09:46.202387Z"
    }
   },
   "outputs": [],
   "source": [
    "# Load Data\n",
    "df = pd.read_csv(r\"MergedFile2.csv\")\n",
    "df.shape\n",
    "df.head()"
   ]
  },
  {
   "cell_type": "code",
   "execution_count": null,
   "id": "d2c351ab",
   "metadata": {
    "ExecuteTime": {
     "end_time": "2022-10-10T23:33:05.725879Z",
     "start_time": "2022-10-10T06:11:06.191034Z"
    }
   },
   "outputs": [],
   "source": [
    "# Calculated parameters\n",
    "perm = 512\n",
    " \n",
    "# Initializing the MHFP encoder with 512 permutations\n",
    "enc = MHFPEncoder(perm)\n",
    " \n",
    "# Create MHFP fingerprints from SMILES\n",
    "# The fingerprint vectors have to be of the tm.VectorUint data type\n",
    "fingerprints = [tmap.VectorUint(enc.encode(s)) for s in df[\"gater_all\"]]\n",
    "lf = tmap.LSHForest(perm)\n",
    " \n",
    "# Add the Fingerprints to the LSH Forest and index\n",
    "lf.batch_add(fingerprints)\n",
    "lf.index()"
   ]
  },
  {
   "cell_type": "code",
   "execution_count": null,
   "id": "9f019557",
   "metadata": {
    "ExecuteTime": {
     "end_time": "2022-10-10T23:38:56.185649Z",
     "start_time": "2022-10-10T23:37:55.695578Z"
    }
   },
   "outputs": [],
   "source": [
    "x, y, s, t, _ = tmap.layout_from_lsh_forest(lf)"
   ]
  },
  {
   "cell_type": "code",
   "execution_count": null,
   "id": "dc41c681",
   "metadata": {
    "ExecuteTime": {
     "end_time": "2022-10-12T02:05:26.166186Z",
     "start_time": "2022-10-12T01:56:44.037776Z"
    }
   },
   "outputs": [],
   "source": [
    "#Create pictures\n",
    "faerun = Faerun(view=\"front\", clear_color='#FFFFFF',coords=False)\n",
    "faerun.add_scatter(\n",
    "    \"ESOL_Basic\",\n",
    "    {   \"x\": x, \n",
    "        \"y\": y, \n",
    "        \"c\": list(df[\"VF\"].values), \n",
    "        \"labels\": df[\"gater_all\"]},\n",
    "    point_scale=1,\n",
    "    max_point_size=35,\n",
    "    colormap = ['rainbow'],\n",
    "    has_legend=True,\n",
    "    \n",
    "    legend_title = ['Vibrio fischeri(umol/L)'],\n",
    "    categorical=False,\n",
    "    shader = 'smoothCircle'\n",
    ")\n",
    " \n",
    "faerun.add_tree(\"ESOL_Basic_tree\", {\"from\": s, \"to\": t}, point_helper=\"ESOL_Basic\")\n",
    " \n",
    "# Choose the \"smiles\" template to display structure on hover\n",
    "faerun.plot('Vibrio_fischeri3_Basic', template=\"smiles\")\n"
   ]
  },
  {
   "cell_type": "code",
   "execution_count": null,
   "id": "9ede2232",
   "metadata": {},
   "outputs": [],
   "source": []
  }
 ],
 "metadata": {
  "kernelspec": {
   "display_name": "Python [conda env:pytorch] *",
   "language": "python",
   "name": "conda-env-pytorch-py"
  },
  "language_info": {
   "codemirror_mode": {
    "name": "ipython",
    "version": 3
   },
   "file_extension": ".py",
   "mimetype": "text/x-python",
   "name": "python",
   "nbconvert_exporter": "python",
   "pygments_lexer": "ipython3",
   "version": "3.7.13"
  },
  "varInspector": {
   "cols": {
    "lenName": 16,
    "lenType": 16,
    "lenVar": 40
   },
   "kernels_config": {
    "python": {
     "delete_cmd_postfix": "",
     "delete_cmd_prefix": "del ",
     "library": "var_list.py",
     "varRefreshCmd": "print(var_dic_list())"
    },
    "r": {
     "delete_cmd_postfix": ") ",
     "delete_cmd_prefix": "rm(",
     "library": "var_list.r",
     "varRefreshCmd": "cat(var_dic_list()) "
    }
   },
   "types_to_exclude": [
    "module",
    "function",
    "builtin_function_or_method",
    "instance",
    "_Feature"
   ],
   "window_display": false
  }
 },
 "nbformat": 4,
 "nbformat_minor": 5
}

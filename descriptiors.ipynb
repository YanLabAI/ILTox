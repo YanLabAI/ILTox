{
 "cells": [
  {
   "cell_type": "code",
   "execution_count": 18,
   "id": "8077e4c5",
   "metadata": {
    "ExecuteTime": {
     "end_time": "2022-03-23T14:59:13.696165Z",
     "start_time": "2022-03-23T14:59:07.933572Z"
    }
   },
   "outputs": [],
   "source": [
    "'''\n",
    "Created on October 282022\n",
    "\n",
    "@auther: Yan\n",
    "\n",
    "'''\n",
    "\n",
    "\n",
    "import os\n",
    "import pandas as pd\n",
    "import numpy as np\n",
    "from rdkit import Chem\n",
    "from rdkit.Chem import AllChem, DataStructs, Draw\n",
    "from rdkit.Chem.Draw import DrawMorganBit, DrawMorganBits, DrawMorganEnv, IPythonConsole, rdMolDraw2D\n",
    "\n",
    "def mols_to_FP(mols, radius=3, nBits=1024, useFeatures=False):\n",
    "    l = len(mols)\n",
    "    mfp_pd = np.zeros((l, nBits), dtype='int')\n",
    "    bitInfo_all = []\n",
    "    for i in range(l):\n",
    "        bitInfo={}\n",
    "        mfp = AllChem.GetMorganFingerprintAsBitVect(mols[i], radius, nBits, useFeatures=useFeatures, bitInfo=bitInfo)\n",
    "        mfp_pd[i,:]=np.array(list(mfp.ToBitString()))\n",
    "        bitInfo_all.append(bitInfo)\n",
    "        del bitInfo\n",
    "    return mfp_pd, bitInfo_all\n",
    "def MACCS (mol):\n",
    "    molToMA = [list(AllChem.GetMACCSKeysFingerprint(mol)) for mol in mols_train]\n",
    "    return molToMA\n",
    "#Load Data\n",
    "mols_train = Chem.SDMolSupplier(r'./smiles.sdf')\n",
    "ECFP, ECFP_bitInfo_all = mols_to_FP(mols_train, useFeatures=False)\n",
    "FCFP, FCFP_bitInfo_all = mols_to_FP(mols_train, useFeatures=True)\n",
    "TO_MACCS =MACCS(mols_train) \n",
    "\n",
    "# Save the results\n",
    "name = pd.DataFrame([mol.GetProp('_Name') for mol in mols_train],columns=['smiles'])\n",
    "pd.concat([name,pd.DataFrame(ECFP)],axis=1).to_excel('ECFP.xlsx')\n",
    "pd.concat([name,pd.DataFrame(FCFP)],axis=1).to_excel('FCFP.xlsx')\n",
    "pd.concat([name,pd.DataFrame(TO_MACCS)],axis=1).to_excel('MCFP.xlsx')"
   ]
  }
 ],
 "metadata": {
  "kernelspec": {
   "display_name": "Python 3.7.13 ('pytorch')",
   "language": "python",
   "name": "python3"
  },
  "language_info": {
   "codemirror_mode": {
    "name": "ipython",
    "version": 3
   },
   "file_extension": ".py",
   "mimetype": "text/x-python",
   "name": "python",
   "nbconvert_exporter": "python",
   "pygments_lexer": "ipython3",
   "version": "3.7.13"
  },
  "varInspector": {
   "cols": {
    "lenName": 16,
    "lenType": 16,
    "lenVar": 40
   },
   "kernels_config": {
    "python": {
     "delete_cmd_postfix": "",
     "delete_cmd_prefix": "del ",
     "library": "var_list.py",
     "varRefreshCmd": "print(var_dic_list())"
    },
    "r": {
     "delete_cmd_postfix": ") ",
     "delete_cmd_prefix": "rm(",
     "library": "var_list.r",
     "varRefreshCmd": "cat(var_dic_list()) "
    }
   },
   "types_to_exclude": [
    "module",
    "function",
    "builtin_function_or_method",
    "instance",
    "_Feature"
   ],
   "window_display": false
  },
  "vscode": {
   "interpreter": {
    "hash": "0747f93ff6db21b2db2bf35ad4858dd0825b9c21797c41b4cc32097944ab3f10"
   }
  }
 },
 "nbformat": 4,
 "nbformat_minor": 5
}
